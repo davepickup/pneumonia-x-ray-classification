{
 "cells": [
  {
   "attachments": {},
   "cell_type": "markdown",
   "metadata": {},
   "source": [
    "# Preprocessing and Model Training"
   ]
  },
  {
   "cell_type": "code",
   "execution_count": null,
   "metadata": {},
   "outputs": [],
   "source": [
    "from pneumonia_detector.preprocess import XrayDataset\n",
    "from pneumonia_detector.model import PneumoniaClassifier\n",
    "from pneumonia_detector.training_run import train_model\n",
    "import os\n",
    "import torch\n",
    "import torch.nn as nn \n",
    "import numpy as np\n",
    "from torch.utils.data import DataLoader, WeightedRandomSampler\n",
    "from torchvision import transforms\n",
    "\n",
    "# Ignore warnings\n",
    "import warnings\n",
    "warnings.filterwarnings(\"ignore\")"
   ]
  },
  {
   "cell_type": "code",
   "execution_count": null,
   "metadata": {},
   "outputs": [],
   "source": [
    "# set a random state value for reproducibility\n",
    "torch.manual_seed(55)"
   ]
  },
  {
   "cell_type": "code",
   "execution_count": null,
   "metadata": {},
   "outputs": [],
   "source": [
    "training_dir = \"/workspaces/chest_xray_challenge/data/chest_xray/train/\"\n",
    "validation_dir = \"/workspaces/chest_xray_challenge/data/chest_xray/val/\""
   ]
  },
  {
   "cell_type": "code",
   "execution_count": null,
   "metadata": {},
   "outputs": [],
   "source": [
    "# training transforms\n",
    "train_transforms = transforms.Compose([transforms.RandomRotation(20),\n",
    "        transforms.RandomHorizontalFlip(p=0.5),\n",
    "        transforms.RandomResizedCrop(size=(256, 256), scale=(0.8, 1.0)),\n",
    "        transforms.ColorJitter(brightness=0.1, contrast=0.1, saturation=0.1, hue=0.1),\n",
    "        transforms.RandomApply([transforms.RandomAffine(0, translate=(0.1, 0.1))], p=0.5),\n",
    "        transforms.RandomApply([transforms.RandomPerspective(distortion_scale=0.2)], p=0.5),\n",
    "        transforms.Resize((256, 256)),\n",
    "        transforms.ToTensor(),\n",
    "        transforms.Normalize(mean=[0.4823, 0.4823, 0.4823], std=[0.2363, 0.2363, 0.2363]),\n",
    "])"
   ]
  },
  {
   "cell_type": "code",
   "execution_count": null,
   "metadata": {},
   "outputs": [],
   "source": [
    "# Create training set Dataset object\n",
    "xray_train_data = XrayDataset(root_dir=training_dir, transform=train_transforms)\n",
    "len(xray_train_data)"
   ]
  },
  {
   "cell_type": "code",
   "execution_count": null,
   "metadata": {},
   "outputs": [],
   "source": [
    "# Function to create weighted sampler based on class imbalance.\n",
    "def create_weighted_sampler(dataset):\n",
    "    targets = [XrayDataset.label_map[file.split(os.sep)[-2].lower()] for file in dataset.files]\n",
    "    class_counts = np.bincount(targets)\n",
    "    class_weights = 1.0 / class_counts\n",
    "    weights = [class_weights[label] for label in targets]\n",
    "    sampler = WeightedRandomSampler(weights, len(weights))\n",
    "    return sampler"
   ]
  },
  {
   "cell_type": "code",
   "execution_count": null,
   "metadata": {},
   "outputs": [],
   "source": [
    "# Create weighted sampler\n",
    "sampler = create_weighted_sampler(xray_train_data)"
   ]
  },
  {
   "cell_type": "code",
   "execution_count": null,
   "metadata": {},
   "outputs": [],
   "source": [
    "# Let's take a look at some stats for the preprocessed training set\n",
    "print(torch.mean(xray_train_data[0][0], dim=[1,2], keepdim=True))\n",
    "print(torch.std(xray_train_data[0][0], dim=[1,2], keepdim=True))\n",
    "print(torch.min(xray_train_data[0][0]))\n",
    "print(torch.max(xray_train_data[0][0]))"
   ]
  },
  {
   "cell_type": "code",
   "execution_count": null,
   "metadata": {},
   "outputs": [],
   "source": [
    "# Create a corresponding Dataset object for the validation set to allow validation during training\n",
    "xray_val_data = XrayDataset(root_dir=validation_dir, transform=train_transforms)\n",
    "len(xray_val_data)"
   ]
  },
  {
   "attachments": {},
   "cell_type": "markdown",
   "metadata": {},
   "source": [
    "Create training and validation DataLoader objects"
   ]
  },
  {
   "cell_type": "code",
   "execution_count": null,
   "metadata": {},
   "outputs": [],
   "source": [
    "train_dataloader_xray = DataLoader(\n",
    "                                dataset=xray_train_data,\n",
    "                                batch_size=16,\n",
    "                                num_workers=0,\n",
    "                                sampler=sampler,\n",
    "                                )"
   ]
  },
  {
   "cell_type": "code",
   "execution_count": null,
   "metadata": {},
   "outputs": [],
   "source": [
    "val_dataloader_xray = DataLoader(\n",
    "                                dataset=xray_val_data,\n",
    "                                batch_size=16,\n",
    "                                num_workers=0,\n",
    "                                shuffle=True\n",
    "                                )"
   ]
  },
  {
   "cell_type": "code",
   "execution_count": null,
   "metadata": {},
   "outputs": [],
   "source": [
    "# set the device for training\n",
    "device = torch.device(\"cuda\" if torch.cuda.is_available() else \"cpu\")\n",
    "device"
   ]
  },
  {
   "cell_type": "code",
   "execution_count": null,
   "metadata": {},
   "outputs": [],
   "source": [
    "# Instantiate the model, loss function and optimizer\n",
    "model = PneumoniaClassifier().to(device)\n",
    "criterion = nn.CrossEntropyLoss()\n",
    "# optimizer = optim.SGD(model.parameters(), lr=0.0005, momentum=0.9)\n",
    "optimizer = torch.optim.Adam(model.parameters(), lr=0.001)"
   ]
  },
  {
   "cell_type": "code",
   "execution_count": null,
   "metadata": {},
   "outputs": [],
   "source": [
    "# set params and run the training\n",
    "model_dir = \"/workspaces/chest_xray_challenge/models/\"\n",
    "model_filename = \"nb_test.pt\"\n",
    "batch_size = 16\n",
    "n_epochs = 2\n",
    "patience = 5\n",
    "image_size = 256\n",
    "learning_rate = 0.001\n",
    "\n",
    "model, train_loss, valid_loss = train_model(model_dir, model_filename, training_dir, validation_dir, batch_size, patience, n_epochs, image_size, learning_rate)"
   ]
  },
  {
   "cell_type": "code",
   "execution_count": null,
   "metadata": {},
   "outputs": [],
   "source": []
  }
 ],
 "metadata": {
  "kernelspec": {
   "display_name": "Python 3",
   "language": "python",
   "name": "python3"
  },
  "language_info": {
   "codemirror_mode": {
    "name": "ipython",
    "version": 3
   },
   "file_extension": ".py",
   "mimetype": "text/x-python",
   "name": "python",
   "nbconvert_exporter": "python",
   "pygments_lexer": "ipython3",
   "version": "3.9.16"
  }
 },
 "nbformat": 4,
 "nbformat_minor": 2
}
